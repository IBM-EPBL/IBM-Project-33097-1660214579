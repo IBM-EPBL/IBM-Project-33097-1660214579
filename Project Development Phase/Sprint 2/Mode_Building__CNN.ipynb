{
  "nbformat": 4,
  "nbformat_minor": 0,
  "metadata": {
    "colab": {
      "provenance": []
    },
    "kernelspec": {
      "name": "python3",
      "display_name": "Python 3"
    },
    "language_info": {
      "name": "python"
    }
  },
  "cells": [
    {
      "cell_type": "markdown",
      "source": [
        "# Data Collection\n",
        "Download the data https://drive.google.com/drive/folders/1TpJpaKzYjyXIQpsEo9yDfPLrhJ4y45gr?usp=share_link\n"
      ],
      "metadata": {
        "id": "qRZCDgQC9hgH"
      }
    },
    {
      "cell_type": "code",
      "execution_count": 1,
      "metadata": {
        "colab": {
          "base_uri": "https://localhost:8080/"
        },
        "id": "TygCZgnexucA",
        "outputId": "15fa76dc-8b56-4615-e6e1-85da19578a05"
      },
      "outputs": [
        {
          "output_type": "stream",
          "name": "stdout",
          "text": [
            "Mounted at /content/drive\n"
          ]
        }
      ],
      "source": [
        "from google.colab import drive\n",
        "drive.mount('/content/drive')"
      ]
    },
    {
      "cell_type": "code",
      "source": [
        "cd/content/drive/MyDrive/Colab Notebooks"
      ],
      "metadata": {
        "colab": {
          "base_uri": "https://localhost:8080/"
        },
        "id": "z6JascaJyZmS",
        "outputId": "401f3515-7f2a-4dc4-ada3-86a215c92ab6"
      },
      "execution_count": 2,
      "outputs": [
        {
          "output_type": "stream",
          "name": "stdout",
          "text": [
            "/content/drive/MyDrive/Colab Notebooks\n"
          ]
        }
      ]
    },
    {
      "cell_type": "code",
      "source": [
        "# Unzipping the dataset\n",
        "!unzip 'TRAIN_SET.zip'"
      ],
      "metadata": {
        "id": "7-n7vgF-ymVp"
      },
      "execution_count": null,
      "outputs": []
    },
    {
      "cell_type": "markdown",
      "source": [
        "Archive:  Dataset.zip\n",
        "replace Dataset/TEST_SET/APPLES/n07740461_10011.jpg? [y]es, [n]o, [A]ll, [N]one, [r]ename: "
      ],
      "metadata": {
        "id": "rSJOk-KF-Y60"
      }
    },
    {
      "cell_type": "markdown",
      "source": [
        "# IMAGE PROCESSING:"
      ],
      "metadata": {
        "id": "8m0d5_wSyrH_"
      }
    },
    {
      "cell_type": "code",
      "source": [
        "#Importing The ImageDataGenerator Library\n",
        "from keras.preprocessing.image import ImageDataGenerator"
      ],
      "metadata": {
        "id": "Z1TdQx2gyyyU"
      },
      "execution_count": 28,
      "outputs": []
    },
    {
      "cell_type": "markdown",
      "source": [
        "## IMAGE DATA AUGUMENTATION:"
      ],
      "metadata": {
        "id": "AyFxB_Jiy2Eu"
      }
    },
    {
      "cell_type": "markdown",
      "source": [
        "Applying Image DataGenerator Functionality To Trainset And Testset"
      ],
      "metadata": {
        "id": "-vOpheF0zRMg"
      }
    },
    {
      "cell_type": "code",
      "source": [
        "#Applying Image DataGenerator Functionality To Trainset And Testset\n",
        "x_train = train_datagen.flow_from_directory(\n",
        "    r'/content/drive/MyDrive/TRAIN_SET.zip',\n",
        "    target_size=(64, 64),batch_size=5,color_mode='rgb',class_mode='sparse')\n",
        "#Applying Image DataGenerator Functionality To Testset\n",
        "x_test = test_datagen.flow_from_directory(\n",
        "    r'/content/drive/MyDrive/TEST_SET-20221109T113651Z-001.zip',\n",
        "    target_size=(64, 64),batch_size=5,color_mode='rgb',class_mode='sparse') "
      ],
      "metadata": {
        "id": "-21KojWn8ewd"
      },
      "execution_count": null,
      "outputs": []
    },
    {
      "cell_type": "markdown",
      "source": [
        "Found 4118 images belonging to 5 classes.\n",
        "\n",
        "Found 929 images belonging to 5 classes.\n"
      ],
      "metadata": {
        "id": "VDz6e6s03wde"
      }
    },
    {
      "cell_type": "code",
      "source": [
        "#checking the number of classes\n",
        "print(x_train.class_indices)"
      ],
      "metadata": {
        "id": "-BqYCH2S8jFW"
      },
      "execution_count": null,
      "outputs": []
    },
    {
      "cell_type": "markdown",
      "source": [
        "{'APPLES': 0, 'BANANA': 1, 'ORANGE': 2, 'PINEAPPLE': 3, 'WATERMELON': 4}"
      ],
      "metadata": {
        "id": "3JzHOhAI4DRi"
      }
    },
    {
      "cell_type": "code",
      "source": [
        "#checking the number of classes\n",
        "print(x_train.class_indices)"
      ],
      "metadata": {
        "id": "aqYMAONH8nHI"
      },
      "execution_count": null,
      "outputs": []
    },
    {
      "cell_type": "markdown",
      "source": [
        "{'APPLES': 0, 'BANANA': 1, 'ORANGE': 2, 'PINEAPPLE': 3, 'WATERMELON': 4}"
      ],
      "metadata": {
        "id": "L2ZHoL3l4HT0"
      }
    },
    {
      "cell_type": "code",
      "source": [
        "#checking the number of classes\n",
        "print(x_test.class_indices)"
      ],
      "metadata": {
        "id": "l-ldSe148teZ"
      },
      "execution_count": null,
      "outputs": []
    },
    {
      "cell_type": "markdown",
      "source": [
        "{'APPLES': 0, 'BANANA': 1, 'ORANGE': 2, 'PINEAPPLE': 3, 'WATERMELON': 4}"
      ],
      "metadata": {
        "id": "R7dXS1_k4Mn4"
      }
    },
    {
      "cell_type": "code",
      "source": [
        "from collections import Counter as c\n",
        "c(x_train .labels)"
      ],
      "metadata": {
        "id": "uhnb-o9A8yEK"
      },
      "execution_count": null,
      "outputs": []
    },
    {
      "cell_type": "markdown",
      "source": [
        "Counter({0: 995, 1: 1354, 2: 1019, 3: 275, 4: 475})"
      ],
      "metadata": {
        "id": "cdarwOJX4Rni"
      }
    },
    {
      "cell_type": "markdown",
      "source": [
        "## Model Building:"
      ],
      "metadata": {
        "id": "oA2xBPwx4UTS"
      }
    },
    {
      "cell_type": "markdown",
      "source": [
        "1] Importing The Model Building Libraries"
      ],
      "metadata": {
        "id": "2Ci0LaX158kc"
      }
    },
    {
      "cell_type": "code",
      "source": [
        "import numpy as np\n",
        "import tensorflow as tf\n",
        "from tensorflow.keras.models import Sequential \n",
        "from tensorflow.keras import layers\n",
        "from tensorflow.keras.layers import Dense,Flatten\n",
        "from tensorflow.keras.layers import Conv2D,MaxPooling2D,Dropout "
      ],
      "metadata": {
        "id": "Bo3L97Cv82fG"
      },
      "execution_count": null,
      "outputs": []
    },
    {
      "cell_type": "markdown",
      "source": [
        "2] Initializing The Model"
      ],
      "metadata": {
        "id": "VCpVVlRc6Fuh"
      }
    },
    {
      "cell_type": "code",
      "source": [
        "model = Sequential()"
      ],
      "metadata": {
        "id": "gavb25UT853u"
      },
      "execution_count": null,
      "outputs": []
    },
    {
      "cell_type": "markdown",
      "source": [
        "3] Adding CNN Layers"
      ],
      "metadata": {
        "id": "T8DFkNFg6Sk5"
      }
    },
    {
      "cell_type": "code",
      "source": [
        "# Initializing the CNN\n",
        "classifier = Sequential()\n",
        "\n",
        "# First convolution layer and pooling\n",
        "classifier.add(Conv2D(32, (3, 3), input_shape=(64, 64, 3), activation='relu'))\n",
        "classifier.add(MaxPooling2D(pool_size=(2, 2)))\n",
        "\n",
        "# Second convolution layer and pooling\n",
        "classifier.add(Conv2D(32, (3, 3), activation='relu'))\n",
        "\n",
        "# input_shape is going to be the pooled feature maps from the previous convolution layer\n",
        "classifier.add(MaxPooling2D(pool_size=(2, 2)))\n",
        "\n",
        "# Flattening the layers\n",
        "classifier.add(Flatten())"
      ],
      "metadata": {
        "id": "0H0P8bIs9DMg"
      },
      "execution_count": null,
      "outputs": []
    },
    {
      "cell_type": "markdown",
      "source": [
        "4] Adding Dense Layers"
      ],
      "metadata": {
        "id": "ZkNp9iYh6XhR"
      }
    },
    {
      "cell_type": "code",
      "source": [
        "classifier.add(Dense(units=128, activation='relu'))\n",
        "classifier.add(Dense(units=5, activation='softmax'))"
      ],
      "metadata": {
        "id": "s-4vMY7d9HDf"
      },
      "execution_count": null,
      "outputs": []
    },
    {
      "cell_type": "code",
      "source": [
        "#summary of our model\n",
        "classifier.summary()"
      ],
      "metadata": {
        "colab": {
          "base_uri": "https://localhost:8080/"
        },
        "id": "2ALTi2ve6gWo",
        "outputId": "e2d846b5-893b-4e59-b123-67c4b30518ab"
      },
      "execution_count": 38,
      "outputs": [
        {
          "output_type": "stream",
          "name": "stdout",
          "text": [
            "Model: \"sequential_1\"\n",
            "_________________________________________________________________\n",
            " Layer (type)                Output Shape              Param #   \n",
            "=================================================================\n",
            " conv2d (Conv2D)             (None, 62, 62, 32)        896       \n",
            "                                                                 \n",
            " max_pooling2d (MaxPooling2D  (None, 31, 31, 32)       0         \n",
            " )                                                               \n",
            "                                                                 \n",
            " conv2d_1 (Conv2D)           (None, 29, 29, 32)        9248      \n",
            "                                                                 \n",
            " max_pooling2d_1 (MaxPooling  (None, 14, 14, 32)       0         \n",
            " 2D)                                                             \n",
            "                                                                 \n",
            " flatten (Flatten)           (None, 6272)              0         \n",
            "                                                                 \n",
            " dense (Dense)               (None, 128)               802944    \n",
            "                                                                 \n",
            " dense_1 (Dense)             (None, 5)                 645       \n",
            "                                                                 \n",
            "=================================================================\n",
            "Total params: 813,733\n",
            "Trainable params: 813,733\n",
            "Non-trainable params: 0\n",
            "_________________________________________________________________\n"
          ]
        }
      ]
    },
    {
      "cell_type": "markdown",
      "source": [
        "5] Configure The Learning Process"
      ],
      "metadata": {
        "id": "HFACN1l36mam"
      }
    },
    {
      "cell_type": "code",
      "source": [
        "# Compiling the CNN\n",
        "# categorical_crossentropy for more than 2\n",
        "classifier.compile(optimizer='adam', loss='sparse_categorical_crossentropy', metrics=['accuracy']) "
      ],
      "metadata": {
        "id": "wW2NS0xN9TIe"
      },
      "execution_count": null,
      "outputs": []
    },
    {
      "cell_type": "markdown",
      "source": [
        "6] Train The Model"
      ],
      "metadata": {
        "id": "Q8I0TRg56vkb"
      }
    },
    {
      "cell_type": "code",
      "source": [
        "#Fitting the model\n",
        "classifier.fit_generator(generator=x_train,steps_per_epoch = len(x_train),epochs=20, validation_data=x_test,validation_steps = len(x_test))"
      ],
      "metadata": {
        "id": "veVt06AQ7A-D"
      },
      "execution_count": null,
      "outputs": []
    },
    {
      "cell_type": "markdown",
      "source": [
        "7] Saving The Model"
      ],
      "metadata": {
        "id": "5uR0Ugi37D9H"
      }
    },
    {
      "cell_type": "code",
      "source": [
        "classifier.save('nutrition.h5')"
      ],
      "metadata": {
        "id": "WDxhYgBw7Icy"
      },
      "execution_count": 30,
      "outputs": []
    },
    {
      "cell_type": "markdown",
      "source": [
        "8] Testing The Model"
      ],
      "metadata": {
        "id": "ntXjniet7MCq"
      }
    },
    {
      "cell_type": "code",
      "source": [
        "#Predict the results\n",
        "from tensorflow.keras.models import load_model\n",
        "from keras.preprocessing import image\n",
        "model = load_model(\"nutrition.h5\")"
      ],
      "metadata": {
        "id": "QkbcCWHJ7QOt"
      },
      "execution_count": 31,
      "outputs": []
    },
    {
      "cell_type": "code",
      "source": [
        "from tensorflow.keras.models import load_model\n",
        "from tensorflow.keras.preprocessing import image\n",
        "model = load_model(\"nutrition.h5\")\n",
        "#loading of the image\n",
        "img = image.load_img(r'/content/drive/MyDrive/Colab Notebooks/Sample_Images/Test_Image1.jpg',grayscale=False,target_size= (64,64))\n",
        "#image to array\n",
        "x = img_to_array(img)\n",
        "#changing the shape\n",
        "x = np.expand_dims(x,axis = 0)\n",
        "predict_x=model.predict(x) \n",
        "classes_x=np.argmax(predict_x,axis=-1)\n",
        "classes_x"
      ],
      "metadata": {
        "id": "OGw3AkGI7WqO"
      },
      "execution_count": null,
      "outputs": []
    },
    {
      "cell_type": "markdown",
      "source": [
        "1/1 [==============================] - 0s 62ms/step\n",
        "\n",
        "array([0])"
      ],
      "metadata": {
        "id": "P4BEu4Bm7Zaa"
      }
    },
    {
      "cell_type": "code",
      "source": [
        "index=['APPLES', 'BANANA', 'ORANGE','PINEAPPLE','WATERMELON']\n",
        "result=str(index[classes_x[0]])\n",
        "result"
      ],
      "metadata": {
        "id": "ySrhATBU7k49"
      },
      "execution_count": null,
      "outputs": []
    },
    {
      "cell_type": "markdown",
      "source": [
        "'APPLES'"
      ],
      "metadata": {
        "id": "j5gpl1Lm7ntM"
      }
    }
  ]
}